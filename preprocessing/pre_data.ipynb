{
 "cells": [
  {
   "cell_type": "markdown",
   "metadata": {},
   "source": [
    "# 题目一——判断文本是否有制定主题倾向"
   ]
  },
  {
   "cell_type": "code",
   "execution_count": 21,
   "metadata": {},
   "outputs": [],
   "source": [
    "# -*- coding: utf-8 -*-\n",
    "import pandas as pd\n",
    "import numpy as np\n",
    "import matplotlib.pyplot as plt\n",
    "import seaborn as sb\n",
    "import os\n",
    "DATA_DIR_PATH = 'D:/NLP-master/data'\n",
    "train_files = ['T','F']"
   ]
  },
  {
   "cell_type": "markdown",
   "metadata": {},
   "source": [
    "# 数据处理\n",
    "## 正样本"
   ]
  },
  {
   "cell_type": "code",
   "execution_count": 22,
   "metadata": {},
   "outputs": [
    {
     "data": {
      "text/html": [
       "<div>\n",
       "<style scoped>\n",
       "    .dataframe tbody tr th:only-of-type {\n",
       "        vertical-align: middle;\n",
       "    }\n",
       "\n",
       "    .dataframe tbody tr th {\n",
       "        vertical-align: top;\n",
       "    }\n",
       "\n",
       "    .dataframe thead th {\n",
       "        text-align: right;\n",
       "    }\n",
       "</style>\n",
       "<table border=\"1\" class=\"dataframe\">\n",
       "  <thead>\n",
       "    <tr style=\"text-align: right;\">\n",
       "      <th></th>\n",
       "      <th>关键词</th>\n",
       "      <th>用户名</th>\n",
       "      <th>用户id</th>\n",
       "      <th>内容</th>\n",
       "      <th>发博时间</th>\n",
       "      <th>转发数</th>\n",
       "      <th>评论数</th>\n",
       "      <th>点赞数</th>\n",
       "      <th>url</th>\n",
       "    </tr>\n",
       "  </thead>\n",
       "  <tbody>\n",
       "    <tr>\n",
       "      <th>0</th>\n",
       "      <td>美国实体清单</td>\n",
       "      <td>大项的天</td>\n",
       "      <td>1758961192</td>\n",
       "      <td>突发：美国商务部工业和安全局声明指，把华为及70个附属公司增列入出口管制的所谓实体清单。此举...</td>\n",
       "      <td>2019/5/16 6:43</td>\n",
       "      <td>479</td>\n",
       "      <td>314</td>\n",
       "      <td>105</td>\n",
       "      <td>https://weibo.com/1758961192/Hup7XdaVc?refer_f...</td>\n",
       "    </tr>\n",
       "    <tr>\n",
       "      <th>1</th>\n",
       "      <td>美国实体清单</td>\n",
       "      <td>洪水中的小蚂蚁</td>\n",
       "      <td>1511423691</td>\n",
       "      <td>川普将签署行政令，禁止美国企业使用对国家安全构成风险的企业所生产的电信设备，为禁止美企与华为...</td>\n",
       "      <td>2019/5/16 7:56</td>\n",
       "      <td>0</td>\n",
       "      <td>0</td>\n",
       "      <td>1</td>\n",
       "      <td>https://weibo.com/1511423691/HupBHmYqV?refer_f...</td>\n",
       "    </tr>\n",
       "    <tr>\n",
       "      <th>2</th>\n",
       "      <td>美国实体清单</td>\n",
       "      <td>秋月仰望</td>\n",
       "      <td>1114067051</td>\n",
       "      <td>昨天的消息美国商务部工业和安全局声明指，把华为及70个附属公司增列入出口管制的所谓实体清单。...</td>\n",
       "      <td>2019/5/16 7:54</td>\n",
       "      <td>0</td>\n",
       "      <td>0</td>\n",
       "      <td>4</td>\n",
       "      <td>https://weibo.com/1114067051/HupAMlUKw?refer_f...</td>\n",
       "    </tr>\n",
       "    <tr>\n",
       "      <th>3</th>\n",
       "      <td>美国实体清单</td>\n",
       "      <td>XConstructor</td>\n",
       "      <td>2208067002</td>\n",
       "      <td>BREAKINGNEWS：美国商务部工业和安全局声明指，把华为及70个附属公司增列入出口管制...</td>\n",
       "      <td>2019/5/16 7:52</td>\n",
       "      <td>0</td>\n",
       "      <td>0</td>\n",
       "      <td>0</td>\n",
       "      <td>https://weibo.com/2208067002/HupAdsaTY?refer_f...</td>\n",
       "    </tr>\n",
       "    <tr>\n",
       "      <th>4</th>\n",
       "      <td>美国实体清单</td>\n",
       "      <td>韭菜独立连</td>\n",
       "      <td>2168643433</td>\n",
       "      <td>突发：美国商务部工业和安全局声明指，把华为及70个附属公司增列入出口管制的所谓实体清单。此举...</td>\n",
       "      <td>2019/5/16 7:49</td>\n",
       "      <td>0</td>\n",
       "      <td>0</td>\n",
       "      <td>7</td>\n",
       "      <td>https://weibo.com/2168643433/HupyV67ZL?refer_f...</td>\n",
       "    </tr>\n",
       "    <tr>\n",
       "      <th>...</th>\n",
       "      <td>...</td>\n",
       "      <td>...</td>\n",
       "      <td>...</td>\n",
       "      <td>...</td>\n",
       "      <td>...</td>\n",
       "      <td>...</td>\n",
       "      <td>...</td>\n",
       "      <td>...</td>\n",
       "      <td>...</td>\n",
       "    </tr>\n",
       "    <tr>\n",
       "      <th>5585</th>\n",
       "      <td>美国实体清单</td>\n",
       "      <td>财旺波段王</td>\n",
       "      <td>5231992959</td>\n",
       "      <td>#免费公益股#杰瑞股份sz002353页岩气、可燃冰、天然气、海工装备、化工机械等概念，被美...</td>\n",
       "      <td>2019/12/29 21:08</td>\n",
       "      <td>0</td>\n",
       "      <td>0</td>\n",
       "      <td>0</td>\n",
       "      <td>https://weibo.com/5231992959/In3loCHdu?refer_f...</td>\n",
       "    </tr>\n",
       "    <tr>\n",
       "      <th>5586</th>\n",
       "      <td>美国实体清单</td>\n",
       "      <td>财旺投资</td>\n",
       "      <td>3198345522</td>\n",
       "      <td>#免费公益股#杰瑞股份sz002353页岩气、可燃冰、天然气、海工装备、化工机械等概念，被美...</td>\n",
       "      <td>2019/12/29 21:08</td>\n",
       "      <td>0</td>\n",
       "      <td>0</td>\n",
       "      <td>0</td>\n",
       "      <td>https://weibo.com/3198345522/In3loCHar?refer_f...</td>\n",
       "    </tr>\n",
       "    <tr>\n",
       "      <th>5587</th>\n",
       "      <td>美国实体清单</td>\n",
       "      <td>路飞科技说</td>\n",
       "      <td>1162629521</td>\n",
       "      <td>任总2019年采访回顾总结，美国媒体采访比例最高，热点话题中美国政府、实体清单和后门谈论最多...</td>\n",
       "      <td>2019/12/29 23:28</td>\n",
       "      <td>0</td>\n",
       "      <td>0</td>\n",
       "      <td>0</td>\n",
       "      <td>https://weibo.com/1162629521/In4gbqFDA?refer_f...</td>\n",
       "    </tr>\n",
       "    <tr>\n",
       "      <th>5588</th>\n",
       "      <td>美国实体清单</td>\n",
       "      <td>参考消息</td>\n",
       "      <td>2375086267</td>\n",
       "      <td>【境外媒体：华为无惧美国打压逆势前行】境外媒体称，华为公司正越来越多地投身国内市场以弥补国际...</td>\n",
       "      <td>2019/12/30 19:38</td>\n",
       "      <td>22</td>\n",
       "      <td>15</td>\n",
       "      <td>152</td>\n",
       "      <td>https://weibo.com/2375086267/Incbks9NJ?refer_f...</td>\n",
       "    </tr>\n",
       "    <tr>\n",
       "      <th>5589</th>\n",
       "      <td>美国实体清单</td>\n",
       "      <td>讯享派</td>\n",
       "      <td>7299601416</td>\n",
       "      <td>#华为2019年收入超8500亿元#2019年，对于华为而言极不平凡：#华为cfo孟晚舟被捕...</td>\n",
       "      <td>2019/12/31 18:22</td>\n",
       "      <td>0</td>\n",
       "      <td>0</td>\n",
       "      <td>0</td>\n",
       "      <td>https://weibo.com/7299601416/Inl72bAUN?refer_f...</td>\n",
       "    </tr>\n",
       "  </tbody>\n",
       "</table>\n",
       "<p>5590 rows × 9 columns</p>\n",
       "</div>"
      ],
      "text/plain": [
       "         关键词           用户名        用户id  \\\n",
       "0     美国实体清单          大项的天  1758961192   \n",
       "1     美国实体清单       洪水中的小蚂蚁  1511423691   \n",
       "2     美国实体清单          秋月仰望  1114067051   \n",
       "3     美国实体清单  XConstructor  2208067002   \n",
       "4     美国实体清单         韭菜独立连  2168643433   \n",
       "...      ...           ...         ...   \n",
       "5585  美国实体清单         财旺波段王  5231992959   \n",
       "5586  美国实体清单          财旺投资  3198345522   \n",
       "5587  美国实体清单         路飞科技说  1162629521   \n",
       "5588  美国实体清单          参考消息  2375086267   \n",
       "5589  美国实体清单           讯享派  7299601416   \n",
       "\n",
       "                                                     内容              发博时间  \\\n",
       "0     突发：美国商务部工业和安全局声明指，把华为及70个附属公司增列入出口管制的所谓实体清单。此举...    2019/5/16 6:43   \n",
       "1     川普将签署行政令，禁止美国企业使用对国家安全构成风险的企业所生产的电信设备，为禁止美企与华为...    2019/5/16 7:56   \n",
       "2     昨天的消息美国商务部工业和安全局声明指，把华为及70个附属公司增列入出口管制的所谓实体清单。...    2019/5/16 7:54   \n",
       "3     BREAKINGNEWS：美国商务部工业和安全局声明指，把华为及70个附属公司增列入出口管制...    2019/5/16 7:52   \n",
       "4     突发：美国商务部工业和安全局声明指，把华为及70个附属公司增列入出口管制的所谓实体清单。此举...    2019/5/16 7:49   \n",
       "...                                                 ...               ...   \n",
       "5585  #免费公益股#杰瑞股份sz002353页岩气、可燃冰、天然气、海工装备、化工机械等概念，被美...  2019/12/29 21:08   \n",
       "5586  #免费公益股#杰瑞股份sz002353页岩气、可燃冰、天然气、海工装备、化工机械等概念，被美...  2019/12/29 21:08   \n",
       "5587  任总2019年采访回顾总结，美国媒体采访比例最高，热点话题中美国政府、实体清单和后门谈论最多...  2019/12/29 23:28   \n",
       "5588  【境外媒体：华为无惧美国打压逆势前行】境外媒体称，华为公司正越来越多地投身国内市场以弥补国际...  2019/12/30 19:38   \n",
       "5589  #华为2019年收入超8500亿元#2019年，对于华为而言极不平凡：#华为cfo孟晚舟被捕...  2019/12/31 18:22   \n",
       "\n",
       "      转发数  评论数  点赞数                                                url  \n",
       "0     479  314  105  https://weibo.com/1758961192/Hup7XdaVc?refer_f...  \n",
       "1       0    0    1  https://weibo.com/1511423691/HupBHmYqV?refer_f...  \n",
       "2       0    0    4  https://weibo.com/1114067051/HupAMlUKw?refer_f...  \n",
       "3       0    0    0  https://weibo.com/2208067002/HupAdsaTY?refer_f...  \n",
       "4       0    0    7  https://weibo.com/2168643433/HupyV67ZL?refer_f...  \n",
       "...   ...  ...  ...                                                ...  \n",
       "5585    0    0    0  https://weibo.com/5231992959/In3loCHdu?refer_f...  \n",
       "5586    0    0    0  https://weibo.com/3198345522/In3loCHar?refer_f...  \n",
       "5587    0    0    0  https://weibo.com/1162629521/In4gbqFDA?refer_f...  \n",
       "5588   22   15  152  https://weibo.com/2375086267/Incbks9NJ?refer_f...  \n",
       "5589    0    0    0  https://weibo.com/7299601416/Inl72bAUN?refer_f...  \n",
       "\n",
       "[5590 rows x 9 columns]"
      ]
     },
     "execution_count": 22,
     "metadata": {},
     "output_type": "execute_result"
    }
   ],
   "source": [
    "#加载正样本\n",
    "true_data = pd.read_csv(os.path.join(DATA_DIR_PATH, train_files[0]+\".csv\"), encoding = \"gb18030\")\n",
    "true_data"
   ]
  },
  {
   "cell_type": "markdown",
   "metadata": {},
   "source": [
    "### 探究统计规律"
   ]
  },
  {
   "cell_type": "code",
   "execution_count": 23,
   "metadata": {},
   "outputs": [
    {
     "name": "stdout",
     "output_type": "stream",
     "text": [
      "2019年5至12月含\"美国实体清单\"的原创微博条数:\n",
      "5月：890条\n",
      "6月：815条\n",
      "7月：795条\n",
      "8月：1101条\n",
      "9月：203条\n",
      "10月：1008条\n",
      "11月：343条\n",
      "12月：435条\n"
     ]
    }
   ],
   "source": [
    "#数据集的统计规律\n",
    "print('2019年5至12月含\"美国实体清单\"的原创微博条数:')\n",
    "for n in range(5,13):\n",
    "    String = '2019/'+str(n)+'/'\n",
    "    a = 0\n",
    "    for i in true_data['发博时间']:\n",
    "        if String in i:\n",
    "            a=a+1\n",
    "    print(str(n)+'月：'+str(a)+'条')"
   ]
  },
  {
   "cell_type": "code",
   "execution_count": 24,
   "metadata": {},
   "outputs": [
    {
     "data": {
      "image/png": "[encoded data removed]",
      "text/plain": [
       "<Figure size 432x288 with 1 Axes>"
      ]
     },
     "metadata": {},
     "output_type": "display_data"
    }
   ],
   "source": [
    "#绘制直方图\n",
    "import matplotlib.pyplot as plt\n",
    "import matplotlib as mpl\n",
    "import numpy as np\n",
    "\n",
    "# 这两行代码解决 plt 中文显示的问题\n",
    "mpl.rcParams[\"font.sans-serif\"] = [\"SimHei\"]\n",
    "mpl.rcParams[\"axes.unicode_minus\"] = False\n",
    "\n",
    "x = np.arange(8)\n",
    "y = np.array([890,815,795,1101,203,1008,343,435])\n",
    "\n",
    "bar_width = 0.5\n",
    "tick_label = [\"5月\",\"6月\",\"7月\",\"8月\",\"9月\",\"10月\",\"11月\",\"12月\"]\n",
    "\n",
    "plt.bar(x, y, bar_width, align=\"center\", color=\"c\", alpha=0.5)\n",
    "\n",
    "plt.xticks(x, tick_label)\n",
    "# 添加x轴和y轴标签\n",
    "plt.xlabel('月份')\n",
    "plt.ylabel('数量')\n",
    "# 添加标题\n",
    "plt.title('2019年5至12月含\"美国实体清单\"的原创微博条数分布')\n",
    "plt.show()"
   ]
  },
  {
   "cell_type": "code",
   "execution_count": 25,
   "metadata": {},
   "outputs": [
    {
     "data": {
      "text/html": [
       "<div>\n",
       "<style scoped>\n",
       "    .dataframe tbody tr th:only-of-type {\n",
       "        vertical-align: middle;\n",
       "    }\n",
       "\n",
       "    .dataframe tbody tr th {\n",
       "        vertical-align: top;\n",
       "    }\n",
       "\n",
       "    .dataframe thead th {\n",
       "        text-align: right;\n",
       "    }\n",
       "</style>\n",
       "<table border=\"1\" class=\"dataframe\">\n",
       "  <thead>\n",
       "    <tr style=\"text-align: right;\">\n",
       "      <th></th>\n",
       "      <th>内容</th>\n",
       "    </tr>\n",
       "  </thead>\n",
       "  <tbody>\n",
       "    <tr>\n",
       "      <th>0</th>\n",
       "      <td>突发：美国商务部工业和安全局声明指，把华为及70个附属公司增列入出口管制的所谓实体清单。此举...</td>\n",
       "    </tr>\n",
       "    <tr>\n",
       "      <th>1</th>\n",
       "      <td>川普将签署行政令，禁止美国企业使用对国家安全构成风险的企业所生产的电信设备，为禁止美企与华为...</td>\n",
       "    </tr>\n",
       "    <tr>\n",
       "      <th>2</th>\n",
       "      <td>昨天的消息美国商务部工业和安全局声明指，把华为及70个附属公司增列入出口管制的所谓实体清单。...</td>\n",
       "    </tr>\n",
       "    <tr>\n",
       "      <th>3</th>\n",
       "      <td>BREAKINGNEWS：美国商务部工业和安全局声明指，把华为及70个附属公司增列入出口管制...</td>\n",
       "    </tr>\n",
       "    <tr>\n",
       "      <th>4</th>\n",
       "      <td>突发：美国商务部工业和安全局声明指，把华为及70个附属公司增列入出口管制的所谓实体清单。此举...</td>\n",
       "    </tr>\n",
       "    <tr>\n",
       "      <th>...</th>\n",
       "      <td>...</td>\n",
       "    </tr>\n",
       "    <tr>\n",
       "      <th>5585</th>\n",
       "      <td>#免费公益股#杰瑞股份sz002353页岩气、可燃冰、天然气、海工装备、化工机械等概念，被美...</td>\n",
       "    </tr>\n",
       "    <tr>\n",
       "      <th>5586</th>\n",
       "      <td>#免费公益股#杰瑞股份sz002353页岩气、可燃冰、天然气、海工装备、化工机械等概念，被美...</td>\n",
       "    </tr>\n",
       "    <tr>\n",
       "      <th>5587</th>\n",
       "      <td>任总2019年采访回顾总结，美国媒体采访比例最高，热点话题中美国政府、实体清单和后门谈论最多...</td>\n",
       "    </tr>\n",
       "    <tr>\n",
       "      <th>5588</th>\n",
       "      <td>【境外媒体：华为无惧美国打压逆势前行】境外媒体称，华为公司正越来越多地投身国内市场以弥补国际...</td>\n",
       "    </tr>\n",
       "    <tr>\n",
       "      <th>5589</th>\n",
       "      <td>#华为2019年收入超8500亿元#2019年，对于华为而言极不平凡：#华为cfo孟晚舟被捕...</td>\n",
       "    </tr>\n",
       "  </tbody>\n",
       "</table>\n",
       "<p>5590 rows × 1 columns</p>\n",
       "</div>"
      ],
      "text/plain": [
       "                                                     内容\n",
       "0     突发：美国商务部工业和安全局声明指，把华为及70个附属公司增列入出口管制的所谓实体清单。此举...\n",
       "1     川普将签署行政令，禁止美国企业使用对国家安全构成风险的企业所生产的电信设备，为禁止美企与华为...\n",
       "2     昨天的消息美国商务部工业和安全局声明指，把华为及70个附属公司增列入出口管制的所谓实体清单。...\n",
       "3     BREAKINGNEWS：美国商务部工业和安全局声明指，把华为及70个附属公司增列入出口管制...\n",
       "4     突发：美国商务部工业和安全局声明指，把华为及70个附属公司增列入出口管制的所谓实体清单。此举...\n",
       "...                                                 ...\n",
       "5585  #免费公益股#杰瑞股份sz002353页岩气、可燃冰、天然气、海工装备、化工机械等概念，被美...\n",
       "5586  #免费公益股#杰瑞股份sz002353页岩气、可燃冰、天然气、海工装备、化工机械等概念，被美...\n",
       "5587  任总2019年采访回顾总结，美国媒体采访比例最高，热点话题中美国政府、实体清单和后门谈论最多...\n",
       "5588  【境外媒体：华为无惧美国打压逆势前行】境外媒体称，华为公司正越来越多地投身国内市场以弥补国际...\n",
       "5589  #华为2019年收入超8500亿元#2019年，对于华为而言极不平凡：#华为cfo孟晚舟被捕...\n",
       "\n",
       "[5590 rows x 1 columns]"
      ]
     },
     "execution_count": 25,
     "metadata": {},
     "output_type": "execute_result"
    }
   ],
   "source": [
    "#取所需列，只需要“内容”一列\n",
    "t_data = true_data[['内容']]\n",
    "t_data"
   ]
  },
  {
   "cell_type": "markdown",
   "metadata": {},
   "source": [
    "### 让文本只保留汉字，去掉所有符号，包括空格、数字、标点、字母等等"
   ]
  },
  {
   "cell_type": "code",
   "execution_count": 26,
   "metadata": {},
   "outputs": [
    {
     "name": "stdout",
     "output_type": "stream",
     "text": [
      "正样本数量： 5590\n"
     ]
    }
   ],
   "source": [
    "content = true_data['内容'].tolist()\n",
    "#去掉文本中的空格\n",
    "def process(our_data):\n",
    "    m1 =map(lambda s: s.replace(' ',''), our_data)\n",
    "    return list(m1)\n",
    "\n",
    "#让文本只保留汉字，去掉所有符号，包括数字、标点、字母等等\n",
    "def is_chinese(uchar):\n",
    "    if uchar >=u'\\u4e00' and uchar <= u'\\u9fa5':\n",
    "        return True\n",
    "    else:\n",
    "        return False\n",
    "\n",
    "def format_str(content):\n",
    "    content_str = ''\n",
    "    for i in content:\n",
    "        if is_chinese(i):\n",
    "            content_str = content_str + i\n",
    "    return content_str\n",
    "\n",
    "content_de = process(content)#去除空格\n",
    "chinese_list = []\n",
    "for line in content_de:#只保留汉字\n",
    "    chinese_list.append(format_str(line))\n",
    "# print(chinese_list)\n",
    "print('正样本数量：',len(chinese_list))"
   ]
  },
  {
   "cell_type": "markdown",
   "metadata": {},
   "source": [
    "### 删除样本中重复项"
   ]
  },
  {
   "cell_type": "code",
   "execution_count": 27,
   "metadata": {},
   "outputs": [
    {
     "name": "stdout",
     "output_type": "stream",
     "text": [
      "删除重复项后正样本数量： 4212\n"
     ]
    }
   ],
   "source": [
    "#删除重复项\n",
    "chinese_de_list=sorted(set(chinese_list),key=chinese_list.index) #转集合再转列表，顺序输出\n",
    "# print(chinese_list1)\n",
    "print('删除重复项后正样本数量：',len(chinese_de_list))"
   ]
  },
  {
   "cell_type": "markdown",
   "metadata": {},
   "source": [
    "### 保存为txt文件"
   ]
  },
  {
   "cell_type": "code",
   "execution_count": 28,
   "metadata": {},
   "outputs": [
    {
     "name": "stdout",
     "output_type": "stream",
     "text": [
      "保存文件成功\n"
     ]
    }
   ],
   "source": [
    "#保存成txt\n",
    "def text_save(filename, data):#filename为写入txt文件的路径，data为要写入数据列表.\n",
    "    file = open(filename,'a', encoding='utf-8')\n",
    "    for i in range(len(data)):\n",
    "        s = str(data[i]).replace('[','').replace(']','')#去除[],这两行按数据不同，可以选择\n",
    "        s = s.replace(\"'\",'').replace(',','') +'\\n'   #去除单引号，逗号，每行末尾追加换行符\n",
    "        file.write(s)\n",
    "    file.close()\n",
    "    print(\"保存文件成功\") \n",
    "text_save('D:/NLP-master/data/美国实体清单'+str(len(chinese_de_list))+'.txt', chinese_de_list)"
   ]
  },
  {
   "cell_type": "markdown",
   "metadata": {},
   "source": [
    "## 负样本\n",
    "### 处理方法相同"
   ]
  },
  {
   "cell_type": "code",
   "execution_count": 29,
   "metadata": {},
   "outputs": [
    {
     "name": "stdout",
     "output_type": "stream",
     "text": [
      "负样本数量： 4300\n",
      "删除重复项后负样本数量： 4248\n",
      "保存文件成功\n"
     ]
    }
   ],
   "source": [
    "#加载负样本\n",
    "false_data = pd.read_csv(os.path.join(DATA_DIR_PATH, train_files[1]+\".csv\"), encoding = \"gb18030\")\n",
    "content1 = false_data['内容'].tolist()\n",
    "#去除空格\n",
    "content_de1 = process(content1)\n",
    "chinese_list1 = []\n",
    "#只保留汉字\n",
    "for line in content_de1:\n",
    "    chinese_list1.append(format_str(line))\n",
    "print('负样本数量：',len(chinese_list1))\n",
    "#删除重复项\n",
    "chinese_de_list1=sorted(set(chinese_list1),key=chinese_list1.index) #转集合再转列表，顺序输出\n",
    "print('删除重复项后负样本数量：',len(chinese_de_list1))\n",
    "#保存成txt \n",
    "text_save('D:/NLP-master/data/其他'+str(len(chinese_de_list1))+'.txt', chinese_de_list1)"
   ]
  },
  {
   "cell_type": "code",
   "execution_count": null,
   "metadata": {},
   "outputs": [],
   "source": []
  }
 ],
 "metadata": {
  "kernelspec": {
   "display_name": "Python 3",
   "language": "python",
   "name": "python3"
  },
  "language_info": {
   "codemirror_mode": {
    "name": "ipython",
    "version": 3
   },
   "file_extension": ".py",
   "mimetype": "text/x-python",
   "name": "python",
   "nbconvert_exporter": "python",
   "pygments_lexer": "ipython3",
   "version": "3.6.2"
  }
 },
 "nbformat": 4,
 "nbformat_minor": 2
}
