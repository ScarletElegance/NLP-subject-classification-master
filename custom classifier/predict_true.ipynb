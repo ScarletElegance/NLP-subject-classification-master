{
 "cells": [
  {
   "cell_type": "markdown",
   "metadata": {},
   "source": [
    "# 预测正样本的主题分级\n",
    "\n",
    "## 提取预测结果中的正样本"
   ]
  },
  {
   "cell_type": "code",
   "execution_count": 2,
   "metadata": {},
   "outputs": [
    {
     "name": "stdout",
     "output_type": "stream",
     "text": [
      "done\n"
     ]
    }
   ],
   "source": [
    "# -*- coding: utf-8 -*-\n",
    "# 删除负样本\n",
    "import csv\n",
    "import os\n",
    "file_old = 'D:/NLP-master/runs/1592381154/prediction2.csv'\n",
    "file_temp = 'D:/NLP-master/fenji/pre_true.csv'\n",
    "with open(file_old, 'r', newline='', encoding='gb18030') as f_old, \\\n",
    "    open(file_temp, 'w', newline='', encoding='gb18030') as f_temp:\n",
    "    f_csv_old = csv.reader(f_old)\n",
    "    f_csv_temp = csv.writer(f_temp)\n",
    "    for rows in f_csv_old:\n",
    "        if rows[0] != '[其他]' and rows[1] !='':                  # 删除负样本和文本为空的样本\n",
    "            f_csv_temp.writerow(rows)\n",
    "print('done')"
   ]
  },
  {
   "cell_type": "code",
   "execution_count": 3,
   "metadata": {},
   "outputs": [
    {
     "data": {
      "text/html": [
       "<div>\n",
       "<style scoped>\n",
       "    .dataframe tbody tr th:only-of-type {\n",
       "        vertical-align: middle;\n",
       "    }\n",
       "\n",
       "    .dataframe tbody tr th {\n",
       "        vertical-align: top;\n",
       "    }\n",
       "\n",
       "    .dataframe thead th {\n",
       "        text-align: right;\n",
       "    }\n",
       "</style>\n",
       "<table border=\"1\" class=\"dataframe\">\n",
       "  <thead>\n",
       "    <tr style=\"text-align: right;\">\n",
       "      <th></th>\n",
       "      <th>0</th>\n",
       "      <th>1</th>\n",
       "    </tr>\n",
       "  </thead>\n",
       "  <tbody>\n",
       "    <tr>\n",
       "      <th>0</th>\n",
       "      <td>[美国实体清单]</td>\n",
       "      <td>华为 针对 临时 通用 许可证 发布 声明 华为 回应 美国 延长 实体 清单 无聊 看待 ...</td>\n",
       "    </tr>\n",
       "    <tr>\n",
       "      <th>1</th>\n",
       "      <td>[美国实体清单]</td>\n",
       "      <td>美国众议院 已经 决议 年 之内 实体 清单 撤销 华为 近期 频频 接受 外媒 采访 华为...</td>\n",
       "    </tr>\n",
       "    <tr>\n",
       "      <th>2</th>\n",
       "      <td>[美国实体清单]</td>\n",
       "      <td>针对 美国 实体 清单 任正非 充满信心 地说 美国 实体 清单 伤害 美国公司 美国政府 ...</td>\n",
       "    </tr>\n",
       "    <tr>\n",
       "      <th>3</th>\n",
       "      <td>[美国实体清单]</td>\n",
       "      <td>汇桔云 全新 改版 上线 列入 黑名单 华为 危机 中兴 小 华为 核心技术 更好 列入 黑...</td>\n",
       "    </tr>\n",
       "    <tr>\n",
       "      <th>4</th>\n",
       "      <td>[美国实体清单]</td>\n",
       "      <td>月 日 英国 天空 新闻台 播出 华为 创始人 兼 任正非 专访 任正非 谈及 英国 新 首...</td>\n",
       "    </tr>\n",
       "    <tr>\n",
       "      <th>...</th>\n",
       "      <td>...</td>\n",
       "      <td>...</td>\n",
       "    </tr>\n",
       "    <tr>\n",
       "      <th>1256</th>\n",
       "      <td>[美国实体清单]</td>\n",
       "      <td>岁 任正非 最新 发声 华为 已 做好 实体 清单 长期 撤销 准备 却 担忧 近日 华为 ...</td>\n",
       "    </tr>\n",
       "    <tr>\n",
       "      <th>1257</th>\n",
       "      <td>[美国实体清单]</td>\n",
       "      <td>华为公司 致信 员工 多年 前 已 预计 美国 打压 困难 挡不住 前进 步伐 环球网 环球...</td>\n",
       "    </tr>\n",
       "    <tr>\n",
       "      <th>1258</th>\n",
       "      <td>[美国实体清单]</td>\n",
       "      <td>华为 笔记本电脑 现在 回到 美国 微软 在线 商店 微软 重新 上架 华为 笔记本电脑 令...</td>\n",
       "    </tr>\n",
       "    <tr>\n",
       "      <th>1259</th>\n",
       "      <td>[美国实体清单]</td>\n",
       "      <td>任正非 已 准备 退休 美国 打压 产生 动力 任正非 本月 日 接受 拉美 西班牙 媒体 ...</td>\n",
       "    </tr>\n",
       "    <tr>\n",
       "      <th>1260</th>\n",
       "      <td>[美国实体清单]</td>\n",
       "      <td>华为 美 延期 临时 通用 许可证 实质性 影响 有限 月 日 晚间 华为 针对 美国商务部...</td>\n",
       "    </tr>\n",
       "  </tbody>\n",
       "</table>\n",
       "<p>1261 rows × 2 columns</p>\n",
       "</div>"
      ],
      "text/plain": [
       "             0                                                  1\n",
       "0     [美国实体清单]  华为 针对 临时 通用 许可证 发布 声明 华为 回应 美国 延长 实体 清单 无聊 看待 ...\n",
       "1     [美国实体清单]  美国众议院 已经 决议 年 之内 实体 清单 撤销 华为 近期 频频 接受 外媒 采访 华为...\n",
       "2     [美国实体清单]  针对 美国 实体 清单 任正非 充满信心 地说 美国 实体 清单 伤害 美国公司 美国政府 ...\n",
       "3     [美国实体清单]  汇桔云 全新 改版 上线 列入 黑名单 华为 危机 中兴 小 华为 核心技术 更好 列入 黑...\n",
       "4     [美国实体清单]  月 日 英国 天空 新闻台 播出 华为 创始人 兼 任正非 专访 任正非 谈及 英国 新 首...\n",
       "...        ...                                                ...\n",
       "1256  [美国实体清单]  岁 任正非 最新 发声 华为 已 做好 实体 清单 长期 撤销 准备 却 担忧 近日 华为 ...\n",
       "1257  [美国实体清单]  华为公司 致信 员工 多年 前 已 预计 美国 打压 困难 挡不住 前进 步伐 环球网 环球...\n",
       "1258  [美国实体清单]  华为 笔记本电脑 现在 回到 美国 微软 在线 商店 微软 重新 上架 华为 笔记本电脑 令...\n",
       "1259  [美国实体清单]  任正非 已 准备 退休 美国 打压 产生 动力 任正非 本月 日 接受 拉美 西班牙 媒体 ...\n",
       "1260  [美国实体清单]  华为 美 延期 临时 通用 许可证 实质性 影响 有限 月 日 晚间 华为 针对 美国商务部...\n",
       "\n",
       "[1261 rows x 2 columns]"
      ]
     },
     "execution_count": 3,
     "metadata": {},
     "output_type": "execute_result"
    }
   ],
   "source": [
    "#展示正样本\n",
    "import pandas as pd\n",
    "import numpy as np\n",
    "import matplotlib.pyplot as plt\n",
    "import seaborn as sb\n",
    "pre_true = pd.read_csv(os.path.join(file_temp), encoding = \"gb18030\", header=None)\n",
    "pre_true"
   ]
  },
  {
   "cell_type": "code",
   "execution_count": 4,
   "metadata": {},
   "outputs": [
    {
     "data": {
      "text/html": [
       "<div>\n",
       "<style scoped>\n",
       "    .dataframe tbody tr th:only-of-type {\n",
       "        vertical-align: middle;\n",
       "    }\n",
       "\n",
       "    .dataframe tbody tr th {\n",
       "        vertical-align: top;\n",
       "    }\n",
       "\n",
       "    .dataframe thead th {\n",
       "        text-align: right;\n",
       "    }\n",
       "</style>\n",
       "<table border=\"1\" class=\"dataframe\">\n",
       "  <thead>\n",
       "    <tr style=\"text-align: right;\">\n",
       "      <th></th>\n",
       "      <th>1</th>\n",
       "    </tr>\n",
       "  </thead>\n",
       "  <tbody>\n",
       "    <tr>\n",
       "      <th>0</th>\n",
       "      <td>华为 针对 临时 通用 许可证 发布 声明 华为 回应 美国 延长 实体 清单 无聊 看待 ...</td>\n",
       "    </tr>\n",
       "    <tr>\n",
       "      <th>1</th>\n",
       "      <td>美国众议院 已经 决议 年 之内 实体 清单 撤销 华为 近期 频频 接受 外媒 采访 华为...</td>\n",
       "    </tr>\n",
       "    <tr>\n",
       "      <th>2</th>\n",
       "      <td>针对 美国 实体 清单 任正非 充满信心 地说 美国 实体 清单 伤害 美国公司 美国政府 ...</td>\n",
       "    </tr>\n",
       "    <tr>\n",
       "      <th>3</th>\n",
       "      <td>汇桔云 全新 改版 上线 列入 黑名单 华为 危机 中兴 小 华为 核心技术 更好 列入 黑...</td>\n",
       "    </tr>\n",
       "    <tr>\n",
       "      <th>4</th>\n",
       "      <td>月 日 英国 天空 新闻台 播出 华为 创始人 兼 任正非 专访 任正非 谈及 英国 新 首...</td>\n",
       "    </tr>\n",
       "    <tr>\n",
       "      <th>...</th>\n",
       "      <td>...</td>\n",
       "    </tr>\n",
       "    <tr>\n",
       "      <th>1256</th>\n",
       "      <td>岁 任正非 最新 发声 华为 已 做好 实体 清单 长期 撤销 准备 却 担忧 近日 华为 ...</td>\n",
       "    </tr>\n",
       "    <tr>\n",
       "      <th>1257</th>\n",
       "      <td>华为公司 致信 员工 多年 前 已 预计 美国 打压 困难 挡不住 前进 步伐 环球网 环球...</td>\n",
       "    </tr>\n",
       "    <tr>\n",
       "      <th>1258</th>\n",
       "      <td>华为 笔记本电脑 现在 回到 美国 微软 在线 商店 微软 重新 上架 华为 笔记本电脑 令...</td>\n",
       "    </tr>\n",
       "    <tr>\n",
       "      <th>1259</th>\n",
       "      <td>任正非 已 准备 退休 美国 打压 产生 动力 任正非 本月 日 接受 拉美 西班牙 媒体 ...</td>\n",
       "    </tr>\n",
       "    <tr>\n",
       "      <th>1260</th>\n",
       "      <td>华为 美 延期 临时 通用 许可证 实质性 影响 有限 月 日 晚间 华为 针对 美国商务部...</td>\n",
       "    </tr>\n",
       "  </tbody>\n",
       "</table>\n",
       "<p>1261 rows × 1 columns</p>\n",
       "</div>"
      ],
      "text/plain": [
       "                                                      1\n",
       "0     华为 针对 临时 通用 许可证 发布 声明 华为 回应 美国 延长 实体 清单 无聊 看待 ...\n",
       "1     美国众议院 已经 决议 年 之内 实体 清单 撤销 华为 近期 频频 接受 外媒 采访 华为...\n",
       "2     针对 美国 实体 清单 任正非 充满信心 地说 美国 实体 清单 伤害 美国公司 美国政府 ...\n",
       "3     汇桔云 全新 改版 上线 列入 黑名单 华为 危机 中兴 小 华为 核心技术 更好 列入 黑...\n",
       "4     月 日 英国 天空 新闻台 播出 华为 创始人 兼 任正非 专访 任正非 谈及 英国 新 首...\n",
       "...                                                 ...\n",
       "1256  岁 任正非 最新 发声 华为 已 做好 实体 清单 长期 撤销 准备 却 担忧 近日 华为 ...\n",
       "1257  华为公司 致信 员工 多年 前 已 预计 美国 打压 困难 挡不住 前进 步伐 环球网 环球...\n",
       "1258  华为 笔记本电脑 现在 回到 美国 微软 在线 商店 微软 重新 上架 华为 笔记本电脑 令...\n",
       "1259  任正非 已 准备 退休 美国 打压 产生 动力 任正非 本月 日 接受 拉美 西班牙 媒体 ...\n",
       "1260  华为 美 延期 临时 通用 许可证 实质性 影响 有限 月 日 晚间 华为 针对 美国商务部...\n",
       "\n",
       "[1261 rows x 1 columns]"
      ]
     },
     "execution_count": 4,
     "metadata": {},
     "output_type": "execute_result"
    }
   ],
   "source": [
    "#取所需列，只需要文本列\n",
    "pt_data = pre_true[[1]]\n",
    "pt_data"
   ]
  },
  {
   "cell_type": "markdown",
   "metadata": {},
   "source": [
    "### 保存为txt文件"
   ]
  },
  {
   "cell_type": "code",
   "execution_count": 13,
   "metadata": {},
   "outputs": [
    {
     "name": "stdout",
     "output_type": "stream",
     "text": [
      "保存文件成功\n"
     ]
    }
   ],
   "source": [
    "content = pt_data[1].tolist()\n",
    "#保存成txt\n",
    "def text_save(filename, data):#filename为写入txt文件的路径，data为要写入数据列表.\n",
    "    file = open(filename,'a', encoding='utf-8')\n",
    "    for i in range(len(data)):\n",
    "        s = str(data[i]).replace('[','').replace(']','')#去除[],这两行按数据不同，可以选择\n",
    "        s = s.replace(\"'\",'').replace(',','') +'\\n'   #去除单引号，逗号，每行末尾追加换行符\n",
    "        file.write(s)\n",
    "    file.close()\n",
    "    print(\"保存文件成功\") \n",
    "text_save('D:/NLP-master/fenji/true_data'+str(len(content))+'.txt', content)"
   ]
  },
  {
   "cell_type": "markdown",
   "metadata": {},
   "source": [
    "## 内容关于华为被加入美国实体清单的微博"
   ]
  },
  {
   "cell_type": "code",
   "execution_count": 14,
   "metadata": {},
   "outputs": [
    {
     "data": {
      "text/html": [
       "<div>\n",
       "<style scoped>\n",
       "    .dataframe tbody tr th:only-of-type {\n",
       "        vertical-align: middle;\n",
       "    }\n",
       "\n",
       "    .dataframe tbody tr th {\n",
       "        vertical-align: top;\n",
       "    }\n",
       "\n",
       "    .dataframe thead th {\n",
       "        text-align: right;\n",
       "    }\n",
       "</style>\n",
       "<table border=\"1\" class=\"dataframe\">\n",
       "  <thead>\n",
       "    <tr style=\"text-align: right;\">\n",
       "      <th></th>\n",
       "      <th>1</th>\n",
       "    </tr>\n",
       "  </thead>\n",
       "  <tbody>\n",
       "    <tr>\n",
       "      <th>0</th>\n",
       "      <td>华为 针对 临时 通用 许可证 发布 声明 华为 回应 美国 延长 实体 清单 无聊 看待 ...</td>\n",
       "    </tr>\n",
       "    <tr>\n",
       "      <th>1</th>\n",
       "      <td>美国众议院 已经 决议 年 之内 实体 清单 撤销 华为 近期 频频 接受 外媒 采访 华为...</td>\n",
       "    </tr>\n",
       "    <tr>\n",
       "      <th>2</th>\n",
       "      <td>针对 美国 实体 清单 任正非 充满信心 地说 美国 实体 清单 伤害 美国公司 美国政府 ...</td>\n",
       "    </tr>\n",
       "    <tr>\n",
       "      <th>3</th>\n",
       "      <td>汇桔云 全新 改版 上线 列入 黑名单 华为 危机 中兴 小 华为 核心技术 更好 列入 黑...</td>\n",
       "    </tr>\n",
       "    <tr>\n",
       "      <th>4</th>\n",
       "      <td>月 日 英国 天空 新闻台 播出 华为 创始人 兼 任正非 专访 任正非 谈及 英国 新 首...</td>\n",
       "    </tr>\n",
       "    <tr>\n",
       "      <th>...</th>\n",
       "      <td>...</td>\n",
       "    </tr>\n",
       "    <tr>\n",
       "      <th>1256</th>\n",
       "      <td>岁 任正非 最新 发声 华为 已 做好 实体 清单 长期 撤销 准备 却 担忧 近日 华为 ...</td>\n",
       "    </tr>\n",
       "    <tr>\n",
       "      <th>1257</th>\n",
       "      <td>华为公司 致信 员工 多年 前 已 预计 美国 打压 困难 挡不住 前进 步伐 环球网 环球...</td>\n",
       "    </tr>\n",
       "    <tr>\n",
       "      <th>1258</th>\n",
       "      <td>华为 笔记本电脑 现在 回到 美国 微软 在线 商店 微软 重新 上架 华为 笔记本电脑 令...</td>\n",
       "    </tr>\n",
       "    <tr>\n",
       "      <th>1259</th>\n",
       "      <td>任正非 已 准备 退休 美国 打压 产生 动力 任正非 本月 日 接受 拉美 西班牙 媒体 ...</td>\n",
       "    </tr>\n",
       "    <tr>\n",
       "      <th>1260</th>\n",
       "      <td>华为 美 延期 临时 通用 许可证 实质性 影响 有限 月 日 晚间 华为 针对 美国商务部...</td>\n",
       "    </tr>\n",
       "  </tbody>\n",
       "</table>\n",
       "<p>871 rows × 1 columns</p>\n",
       "</div>"
      ],
      "text/plain": [
       "                                                      1\n",
       "0     华为 针对 临时 通用 许可证 发布 声明 华为 回应 美国 延长 实体 清单 无聊 看待 ...\n",
       "1     美国众议院 已经 决议 年 之内 实体 清单 撤销 华为 近期 频频 接受 外媒 采访 华为...\n",
       "2     针对 美国 实体 清单 任正非 充满信心 地说 美国 实体 清单 伤害 美国公司 美国政府 ...\n",
       "3     汇桔云 全新 改版 上线 列入 黑名单 华为 危机 中兴 小 华为 核心技术 更好 列入 黑...\n",
       "4     月 日 英国 天空 新闻台 播出 华为 创始人 兼 任正非 专访 任正非 谈及 英国 新 首...\n",
       "...                                                 ...\n",
       "1256  岁 任正非 最新 发声 华为 已 做好 实体 清单 长期 撤销 准备 却 担忧 近日 华为 ...\n",
       "1257  华为公司 致信 员工 多年 前 已 预计 美国 打压 困难 挡不住 前进 步伐 环球网 环球...\n",
       "1258  华为 笔记本电脑 现在 回到 美国 微软 在线 商店 微软 重新 上架 华为 笔记本电脑 令...\n",
       "1259  任正非 已 准备 退休 美国 打压 产生 动力 任正非 本月 日 接受 拉美 西班牙 媒体 ...\n",
       "1260  华为 美 延期 临时 通用 许可证 实质性 影响 有限 月 日 晚间 华为 针对 美国商务部...\n",
       "\n",
       "[871 rows x 1 columns]"
      ]
     },
     "execution_count": 14,
     "metadata": {},
     "output_type": "execute_result"
    }
   ],
   "source": [
    "#含“华为”、“任正非”字样的微博\n",
    "pt_data = pt_data.astype(str)#将所有元素转换为str\n",
    "list0 = pt_data[pt_data[1].str.contains('华为|任正非')]\n",
    "list0"
   ]
  },
  {
   "cell_type": "markdown",
   "metadata": {},
   "source": [
    "## 内容关于其他中国企业（非华为）被加入美国实体清单的微博"
   ]
  },
  {
   "cell_type": "code",
   "execution_count": 17,
   "metadata": {},
   "outputs": [
    {
     "data": {
      "text/html": [
       "<div>\n",
       "<style scoped>\n",
       "    .dataframe tbody tr th:only-of-type {\n",
       "        vertical-align: middle;\n",
       "    }\n",
       "\n",
       "    .dataframe tbody tr th {\n",
       "        vertical-align: top;\n",
       "    }\n",
       "\n",
       "    .dataframe thead th {\n",
       "        text-align: right;\n",
       "    }\n",
       "</style>\n",
       "<table border=\"1\" class=\"dataframe\">\n",
       "  <thead>\n",
       "    <tr style=\"text-align: right;\">\n",
       "      <th></th>\n",
       "      <th>1</th>\n",
       "    </tr>\n",
       "  </thead>\n",
       "  <tbody>\n",
       "    <tr>\n",
       "      <th>6</th>\n",
       "      <td>国家 反恐 办 强烈 谴责 美国 视频 国家 反恐 办 强烈 谴责 美将 新疆 公安机关 机...</td>\n",
       "    </tr>\n",
       "    <tr>\n",
       "      <th>9</th>\n",
       "      <td>美国商务部 号 表示 将家 中国 企业 列入 美国 贸易 管制 黑名单 禁止 美国 企业 合...</td>\n",
       "    </tr>\n",
       "    <tr>\n",
       "      <th>12</th>\n",
       "      <td>美国商务部 周五 月 日 表示 当局 几所 中企 国有 研究所 加入 国安 禁购 实体 清单...</td>\n",
       "    </tr>\n",
       "    <tr>\n",
       "      <th>14</th>\n",
       "      <td>截止 当前 媒体 热度 个股 排行榜 中科 曙光 复牌 一字 跌停 公司 持续 列入 美国 ...</td>\n",
       "    </tr>\n",
       "    <tr>\n",
       "      <th>19</th>\n",
       "      <td>发布 头条 文章 美国 拉 黑官 宣 破冰 计划 出炉 实体 清单 新增 家 中国 科技 公...</td>\n",
       "    </tr>\n",
       "    <tr>\n",
       "      <th>...</th>\n",
       "      <td>...</td>\n",
       "    </tr>\n",
       "    <tr>\n",
       "      <th>1242</th>\n",
       "      <td>海康 威视 回应 遭 列入 实体 清单 长期 影响 有限 针对 美国商务部 公司 列入 实体...</td>\n",
       "    </tr>\n",
       "    <tr>\n",
       "      <th>1244</th>\n",
       "      <td>海康 威视 回应 美国 禁令 美国 芯片 依赖度 不高 昨天 凌晨 消息 称 中国 企业 海...</td>\n",
       "    </tr>\n",
       "    <tr>\n",
       "      <th>1248</th>\n",
       "      <td>月 日 美国商务部 发布公告 宣布 中国 实体 纳入 出口 管制 实体 清单 有家 中国 企...</td>\n",
       "    </tr>\n",
       "    <tr>\n",
       "      <th>1250</th>\n",
       "      <td>美国 实体 清单 新增 五家 公司 名单 曝光 海康 大华 列 导语 美国 试图 扩大 贸易...</td>\n",
       "    </tr>\n",
       "    <tr>\n",
       "      <th>1255</th>\n",
       "      <td>中国崛起 美国 放弃 打压 中国 中国 单相思 美国商务部 当地 时间 日以 国家 安全 关...</td>\n",
       "    </tr>\n",
       "  </tbody>\n",
       "</table>\n",
       "<p>304 rows × 1 columns</p>\n",
       "</div>"
      ],
      "text/plain": [
       "                                                      1\n",
       "6     国家 反恐 办 强烈 谴责 美国 视频 国家 反恐 办 强烈 谴责 美将 新疆 公安机关 机...\n",
       "9     美国商务部 号 表示 将家 中国 企业 列入 美国 贸易 管制 黑名单 禁止 美国 企业 合...\n",
       "12    美国商务部 周五 月 日 表示 当局 几所 中企 国有 研究所 加入 国安 禁购 实体 清单...\n",
       "14    截止 当前 媒体 热度 个股 排行榜 中科 曙光 复牌 一字 跌停 公司 持续 列入 美国 ...\n",
       "19    发布 头条 文章 美国 拉 黑官 宣 破冰 计划 出炉 实体 清单 新增 家 中国 科技 公...\n",
       "...                                                 ...\n",
       "1242  海康 威视 回应 遭 列入 实体 清单 长期 影响 有限 针对 美国商务部 公司 列入 实体...\n",
       "1244  海康 威视 回应 美国 禁令 美国 芯片 依赖度 不高 昨天 凌晨 消息 称 中国 企业 海...\n",
       "1248  月 日 美国商务部 发布公告 宣布 中国 实体 纳入 出口 管制 实体 清单 有家 中国 企...\n",
       "1250  美国 实体 清单 新增 五家 公司 名单 曝光 海康 大华 列 导语 美国 试图 扩大 贸易...\n",
       "1255  中国崛起 美国 放弃 打压 中国 中国 单相思 美国商务部 当地 时间 日以 国家 安全 关...\n",
       "\n",
       "[304 rows x 1 columns]"
      ]
     },
     "execution_count": 17,
     "metadata": {},
     "output_type": "execute_result"
    }
   ],
   "source": [
    "#含“加入”、“列入”、“纳入”字样，不含“华为”、“任正非”字样的微博\n",
    "re1 = list(list0[1])\n",
    "re2 = list(pt_data[1])\n",
    "rest = list(set(re2) ^ set(re1))\n",
    "result = pt_data[pt_data[1].isin(rest)]\n",
    "result = result.astype(str)\n",
    "list1 = result[result[1].str.contains(\n",
    "    '加入|列入|纳入|新增|再添|添加|再有')]\n",
    "list1"
   ]
  },
  {
   "cell_type": "markdown",
   "metadata": {},
   "source": [
    "## 其他与美国实体清单相关的微博"
   ]
  },
  {
   "cell_type": "code",
   "execution_count": 18,
   "metadata": {},
   "outputs": [
    {
     "data": {
      "text/html": [
       "<div>\n",
       "<style scoped>\n",
       "    .dataframe tbody tr th:only-of-type {\n",
       "        vertical-align: middle;\n",
       "    }\n",
       "\n",
       "    .dataframe tbody tr th {\n",
       "        vertical-align: top;\n",
       "    }\n",
       "\n",
       "    .dataframe thead th {\n",
       "        text-align: right;\n",
       "    }\n",
       "</style>\n",
       "<table border=\"1\" class=\"dataframe\">\n",
       "  <thead>\n",
       "    <tr style=\"text-align: right;\">\n",
       "      <th></th>\n",
       "      <th>1</th>\n",
       "    </tr>\n",
       "  </thead>\n",
       "  <tbody>\n",
       "    <tr>\n",
       "      <th>25</th>\n",
       "      <td>可靠 实体 清单 有无 美国公司 商务部 回应 可靠 实体 清单 有无 美国公司 商务部 回...</td>\n",
       "    </tr>\n",
       "    <tr>\n",
       "      <th>33</th>\n",
       "      <td>商务部 可靠 实体 清单 制度 针对 一个 国家 企业 组织 商务部 新闻 发言人 高峰 日...</td>\n",
       "    </tr>\n",
       "    <tr>\n",
       "      <th>36</th>\n",
       "      <td>商务部 近期 发布 可靠 实体 清单 前段时间 美国 宣布 价值 亿美元 中国 输美 产品 ...</td>\n",
       "    </tr>\n",
       "    <tr>\n",
       "      <th>50</th>\n",
       "      <td>应对 美 贸易 摩擦 中国 构建 科技 安全 防火墙 值得 关注 中国 商务部 提出 建立 ...</td>\n",
       "    </tr>\n",
       "    <tr>\n",
       "      <th>71</th>\n",
       "      <td>商务部 发布会 要点 近期 发布 可靠 实体 清单 商务部 新闻 发言人 高峰 日称 中美 ...</td>\n",
       "    </tr>\n",
       "    <tr>\n",
       "      <th>...</th>\n",
       "      <td>...</td>\n",
       "    </tr>\n",
       "    <tr>\n",
       "      <th>1114</th>\n",
       "      <td>人民日报 钟声 误判 中国 坚决 反制 意志 能力 月 日 原产 美国 部分 进口商品 提高...</td>\n",
       "    </tr>\n",
       "    <tr>\n",
       "      <th>1116</th>\n",
       "      <td>美国商务部 实体 清单 涉及 国家 地区 网页 链接</td>\n",
       "    </tr>\n",
       "    <tr>\n",
       "      <th>1187</th>\n",
       "      <td>热点 追踪 军工 周末 爆 消息 今天 关注 一下 军工 表现 叠加 次 新 更优 物流 公...</td>\n",
       "    </tr>\n",
       "    <tr>\n",
       "      <th>1206</th>\n",
       "      <td>忧 稀土 短缺 美国 采取 空前 行动 应该 立即 出台 制裁 实体 清单 时间 忧 稀土 ...</td>\n",
       "    </tr>\n",
       "    <tr>\n",
       "      <th>1234</th>\n",
       "      <td>美 贸易谈判 陷入僵局 美国 针对 中国 挥舞 加征 关税 大棒 推出 所谓 实体 清单 全...</td>\n",
       "    </tr>\n",
       "  </tbody>\n",
       "</table>\n",
       "<p>86 rows × 1 columns</p>\n",
       "</div>"
      ],
      "text/plain": [
       "                                                      1\n",
       "25    可靠 实体 清单 有无 美国公司 商务部 回应 可靠 实体 清单 有无 美国公司 商务部 回...\n",
       "33    商务部 可靠 实体 清单 制度 针对 一个 国家 企业 组织 商务部 新闻 发言人 高峰 日...\n",
       "36    商务部 近期 发布 可靠 实体 清单 前段时间 美国 宣布 价值 亿美元 中国 输美 产品 ...\n",
       "50    应对 美 贸易 摩擦 中国 构建 科技 安全 防火墙 值得 关注 中国 商务部 提出 建立 ...\n",
       "71    商务部 发布会 要点 近期 发布 可靠 实体 清单 商务部 新闻 发言人 高峰 日称 中美 ...\n",
       "...                                                 ...\n",
       "1114  人民日报 钟声 误判 中国 坚决 反制 意志 能力 月 日 原产 美国 部分 进口商品 提高...\n",
       "1116                         美国商务部 实体 清单 涉及 国家 地区 网页 链接\n",
       "1187  热点 追踪 军工 周末 爆 消息 今天 关注 一下 军工 表现 叠加 次 新 更优 物流 公...\n",
       "1206  忧 稀土 短缺 美国 采取 空前 行动 应该 立即 出台 制裁 实体 清单 时间 忧 稀土 ...\n",
       "1234  美 贸易谈判 陷入僵局 美国 针对 中国 挥舞 加征 关税 大棒 推出 所谓 实体 清单 全...\n",
       "\n",
       "[86 rows x 1 columns]"
      ]
     },
     "execution_count": 18,
     "metadata": {},
     "output_type": "execute_result"
    }
   ],
   "source": [
    "#其他含美国实体清单的微博\n",
    "re3 = list(list1[1])\n",
    "re4 = rest\n",
    "rest1 = list(set(re4) ^ set(re3))\n",
    "list2 = result[result[1].isin(rest1)]\n",
    "list2"
   ]
  },
  {
   "cell_type": "markdown",
   "metadata": {},
   "source": [
    "## 绘制统计图"
   ]
  },
  {
   "cell_type": "code",
   "execution_count": 25,
   "metadata": {},
   "outputs": [
    {
     "data": {
      "image/png": "[encoded data removed]",
      "text/plain": [
       "<Figure size 432x288 with 1 Axes>"
      ]
     },
     "metadata": {},
     "output_type": "display_data"
    }
   ],
   "source": [
    "#绘制直方图\n",
    "import matplotlib.pyplot as plt\n",
    "import matplotlib as mpl\n",
    "import numpy as np\n",
    "\n",
    "# 这两行代码解决 plt 中文显示的问题\n",
    "mpl.rcParams[\"font.sans-serif\"] = [\"SimHei\"]\n",
    "mpl.rcParams[\"axes.unicode_minus\"] = False\n",
    "\n",
    "x = np.arange(3)\n",
    "y = np.array([len(list0),len(list1),len(list2)])\n",
    "fig, ax = plt.subplots()\n",
    "\n",
    "bar_width = 0.5\n",
    "tick_label = [\"华为相关\",\"新增企业\",\"其他\"]\n",
    "b = ax.bar(x, y)\n",
    "#显示数值\n",
    "for a, b in zip(x, y):\n",
    "    ax.text(a, b+1, b, ha='center', va='bottom')\n",
    "    \n",
    "plt.xticks(x, tick_label)\n",
    "# 添加x轴和y轴标签\n",
    "plt.xlabel('等级')\n",
    "plt.ylabel('数量')\n",
    "# 添加标题\n",
    "plt.title('微博关于“美国实体清单”主题的内容倾向')\n",
    "plt.show()"
   ]
  },
  {
   "cell_type": "markdown",
   "metadata": {},
   "source": [
    "### 保存成txt"
   ]
  },
  {
   "cell_type": "code",
   "execution_count": 20,
   "metadata": {},
   "outputs": [
    {
     "name": "stdout",
     "output_type": "stream",
     "text": [
      "保存文件成功\n",
      "保存文件成功\n",
      "保存文件成功\n"
     ]
    }
   ],
   "source": [
    "#保存成txt\n",
    "res0 = list0[1].tolist()\n",
    "text_save('D:/NLP-master/fenji/0-'+str(len(res0))+'.txt', res0)\n",
    "res1 = list1[1].tolist()\n",
    "text_save('D:/NLP-master/fenji/1-'+str(len(res1))+'.txt', res1)\n",
    "res2 = list2[1].tolist()\n",
    "text_save('D:/NLP-master/fenji/2-'+str(len(res2))+'.txt', res2)"
   ]
  },
  {
   "cell_type": "code",
   "execution_count": null,
   "metadata": {},
   "outputs": [],
   "source": []
  }
 ],
 "metadata": {
  "kernelspec": {
   "display_name": "Python 3",
   "language": "python",
   "name": "python3"
  },
  "language_info": {
   "codemirror_mode": {
    "name": "ipython",
    "version": 3
   },
   "file_extension": ".py",
   "mimetype": "text/x-python",
   "name": "python",
   "nbconvert_exporter": "python",
   "pygments_lexer": "ipython3",
   "version": "3.6.2"
  }
 },
 "nbformat": 4,
 "nbformat_minor": 2
}
